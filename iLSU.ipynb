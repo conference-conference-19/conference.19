{
 "cells": [
  {
   "cell_type": "code",
   "execution_count": null,
   "metadata": {},
   "outputs": [],
   "source": [
    "import numpy as np\n",
    "from numpy import array\n",
    "import pandas as pd\n",
    "import matplotlib.pyplot as plt\n",
    "%matplotlib inline\n",
    "import string\n",
    "import os\n",
    "from PIL import Image\n",
    "import glob\n",
    "from pickle import dump, load\n",
    "from time import time\n",
    "from keras.preprocessing import sequence\n",
    "from keras.models import Sequential\n",
    "from keras.layers import LSTM, Embedding, TimeDistributed, Dense, RepeatVector,\\\n",
    "                         Activation, Flatten, Reshape, concatenate, Dropout, \\\n",
    "                        BatchNormalization, Conv2D, MaxPooling2D, Concatenate, Add, Conv1D\n",
    "from keras.optimizers import Adam, RMSprop\n",
    "from keras.layers.wrappers import Bidirectional\n",
    "from keras.layers.merge import add\n",
    "from keras.applications.inception_v3 import InceptionV3\n",
    "from keras.preprocessing import image\n",
    "from keras.models import Model\n",
    "from keras import Input, layers\n",
    "from keras import optimizers\n",
    "from keras.applications.inception_v3 import preprocess_input\n",
    "from keras.preprocessing.text import Tokenizer\n",
    "from keras.preprocessing.sequence import pad_sequences\n",
    "from keras.utils import to_categorical, np_utils\n",
    "from keras import callbacks\n",
    "\n",
    "import json\n",
    "import pickle\n",
    "from datetime import datetime, timedelta"
   ]
  },
  {
   "cell_type": "markdown",
   "metadata": {},
   "source": [
    "# helper functions"
   ]
  },
  {
   "cell_type": "code",
   "execution_count": 2,
   "metadata": {},
   "outputs": [],
   "source": [
    "city = 'cairo'"
   ]
  },
  {
   "cell_type": "code",
   "execution_count": 3,
   "metadata": {},
   "outputs": [],
   "source": [
    "if city=='cairo' or 'amman':\n",
    "    num_classes = 3\n",
    "else:\n",
    "    num_classes = 5"
   ]
  },
  {
   "cell_type": "code",
   "execution_count": 4,
   "metadata": {},
   "outputs": [],
   "source": [
    "def getHistorical(date, longitude, city):\n",
    "    if city=='cairo':\n",
    "        sheet = 'Egypt'\n",
    "    elif city=='amman':\n",
    "        sheet = 'Jordan'\n",
    "    elif city=='delhi':\n",
    "        sheet = 'India'\n",
    "    else:\n",
    "        print('invalid city')\n",
    "        return None\n",
    "    \n",
    "    df = pd.read_excel('google_trends.xlsx', sheet_name=sheet, converters={'Date':str})\n",
    "    for i in df.index:\n",
    "        if(df['Date'][i]==date+' 00:00:00'):\n",
    "            res = []\n",
    "            for x in range(longitude):\n",
    "                res.append(df['ACLED'][i-longitude])\n",
    "                i += 1\n",
    "            return res"
   ]
  },
  {
   "cell_type": "code",
   "execution_count": 5,
   "metadata": {},
   "outputs": [],
   "source": [
    "def getIndicators(date, city, longitude, indicator):\n",
    "    df = pd.read_excel('other_indicators.xlsx', sheet_name=city, converters={'Date':str})\n",
    "    start_date = datetime.strptime(date, '%Y-%m-%d')-timedelta(days=longitude)\n",
    "    end_date = datetime.strptime(date, '%Y-%m-%d')-timedelta(days=1)\n",
    "    days = [start_date + timedelta(days=x) for x in range((end_date-start_date).days + 2)]\n",
    "    days1 = [x.strftime('%Y-%m-%d') for x in days]\n",
    "    res = []\n",
    "    for x in range(len(days1)-1):\n",
    "        for i in df.index:\n",
    "            if(str(df['Date'][i]).startswith(days1[x][0:7])):\n",
    "                res.append(round(float(df[indicator][i]), 2))\n",
    "    return res"
   ]
  },
  {
   "cell_type": "code",
   "execution_count": 7,
   "metadata": {},
   "outputs": [],
   "source": [
    "def getCommodity(date, city, longitude, indicator):\n",
    "    if city=='cairo':\n",
    "        sheet = 'Egypt'\n",
    "    elif city=='amman':\n",
    "        sheet = 'Jordan'\n",
    "    elif city=='delhi':\n",
    "        sheet = 'India'\n",
    "    else:\n",
    "        print('invalid city')\n",
    "        return None\n",
    "    \n",
    "    df = pd.read_excel('Book1.xlsx', sheet_name=sheet, converters={'Date':str})\n",
    "    start_date = datetime.strptime(date, '%Y-%m-%d')-timedelta(days=longitude)\n",
    "    end_date = datetime.strptime(date, '%Y-%m-%d')-timedelta(days=1)\n",
    "    days = [start_date + timedelta(days=x) for x in range((end_date-start_date).days + 2)]\n",
    "    days1 = [x.strftime('%Y-%m-%d') for x in days]\n",
    "    res = []\n",
    "    for x in range(len(days1)-1):\n",
    "        for i in df.index:\n",
    "            if(str(df['Date'][i]).startswith(days1[x][0:7])):\n",
    "                res.append(round(float(df[indicator][i]), 2))\n",
    "    return res"
   ]
  },
  {
   "cell_type": "code",
   "execution_count": 8,
   "metadata": {},
   "outputs": [],
   "source": [
    "def getWeather(date, city, longitude, category):\n",
    "    with open('/'+city+'/weather-dic.json') as f:\n",
    "        weather = json.load(f)\n",
    "    start_date = datetime.strptime(date, '%Y-%m-%d')-timedelta(days=longitude)\n",
    "    end_date = datetime.strptime(date, '%Y-%m-%d')-timedelta(days=1)\n",
    "    days = [start_date + timedelta(days=x) for x in range((end_date-start_date).days + 2)]\n",
    "    days1 = [x.strftime('%Y-%m-%d') for x in days]\n",
    "    res = []\n",
    "    for x in range(len(days1)-1):\n",
    "        res.append(weather[days1[x]]['hourly'][0][category])\n",
    "    return res"
   ]
  },
  {
   "cell_type": "code",
   "execution_count": 112,
   "metadata": {},
   "outputs": [],
   "source": [
    "def getHateSpeech(date, city, longitude):\n",
    "    with open('/'+city+'/hate_rate.json') as f:\n",
    "        rate = json.load(f)\n",
    "    start_date = datetime.strptime(date, '%Y-%m-%d')-timedelta(days=longitude)\n",
    "    end_date = datetime.strptime(date, '%Y-%m-%d')-timedelta(days=1)\n",
    "    days = [start_date + timedelta(days=x) for x in range((end_date-start_date).days + 2)]\n",
    "    days1 = [x.strftime('%Y-%m-%d') for x in days]\n",
    "    res = []\n",
    "    for x in range(len(days1)-1):\n",
    "        res.append(rate[days1[x]])\n",
    "    return res"
   ]
  },
  {
   "cell_type": "code",
   "execution_count": 11,
   "metadata": {},
   "outputs": [],
   "source": [
    "def twitterSentiment(date, longitude, city):\n",
    "    if city=='cairo':\n",
    "        path = ''\n",
    "    elif city=='amman':\n",
    "        path = ''\n",
    "    elif city=='delhi':\n",
    "        path = ''\n",
    "    df = pd.read_excel(path, sheet_name='Social unrest events prediction', converters={'Analysis Date':str})\n",
    "    for i in df.index:\n",
    "        if(df['Analysis Date'][i]==date+' 00:00:00'):\n",
    "            res = []\n",
    "            for x in range(longitude):\n",
    "                res.append(df['Anger'][i-longitude])\n",
    "                i += 1\n",
    "            return res"
   ]
  },
  {
   "cell_type": "code",
   "execution_count": 12,
   "metadata": {},
   "outputs": [],
   "source": [
    "def twitterVolume(date, longitude, city):\n",
    "    if city=='cairo':\n",
    "        path = ''\n",
    "    elif city=='amman':\n",
    "        path = ''\n",
    "    elif city=='delhi':\n",
    "        path = ''\n",
    "    df = pd.read_excel(path, sheet_name='Social unrest events prediction', converters={'Date':str})\n",
    "    for i in df.index:\n",
    "        if(df['Date'][i]==date+' 00:00:00'):\n",
    "            res = []\n",
    "            for x in range(longitude):\n",
    "                res.append(df['Relevant Posts'][i-longitude])\n",
    "                i += 1\n",
    "            return res"
   ]
  },
  {
   "cell_type": "code",
   "execution_count": 13,
   "metadata": {},
   "outputs": [],
   "source": [
    "def loadTruth(city):\n",
    "    if city=='cairo':\n",
    "        path = ''\n",
    "    elif city=='amman':\n",
    "        path = ''\n",
    "    elif city=='delhi':\n",
    "        path = ''\n",
    "    else:\n",
    "        print('invalid city')\n",
    "        return None\n",
    "    \n",
    "    with open(path) as f:\n",
    "        data = json.load(f)\n",
    "    return data"
   ]
  },
  {
   "cell_type": "code",
   "execution_count": 14,
   "metadata": {},
   "outputs": [],
   "source": [
    "truths = loadTruth(city)\n",
    "for date in truths.keys():\n",
    "    truths[date] = np_utils.to_categorical(truths[date], num_classes=num_classes)"
   ]
  },
  {
   "cell_type": "code",
   "execution_count": 190,
   "metadata": {},
   "outputs": [],
   "source": [
    "# create hist dataset - training\n",
    "def createIndicatorTrain(longitude, lap, city, indicators):\n",
    "    if city=='cairo':\n",
    "        if longitude == 60:\n",
    "            start_date = '2015-06-01'\n",
    "        else:\n",
    "            start_date = '2015-05-01'\n",
    "    elif city=='amman':\n",
    "        start_date = '2016-01-01'\n",
    "    elif city=='delhi':\n",
    "        start_date = '2016-01-01'\n",
    "    else:\n",
    "        print('invalid city')\n",
    "        return None\n",
    "\n",
    "    end_date = '2019-01-01'\n",
    "\n",
    "    days_min = datetime.strptime(start_date, '%Y-%m-%d')\n",
    "    days_max = datetime.strptime(end_date, '%Y-%m-%d')\n",
    "    days = [days_min + timedelta(days=x) for x in range((days_max-days_min).days + 2)]\n",
    "    days1 = [x.strftime('%Y-%m-%d') for x in days]\n",
    "\n",
    "    res = {}\n",
    "    for i in range(len(days1)-1):\n",
    "        indic = []\n",
    "        date = days1[i]\n",
    "        print(date)\n",
    "        for indicator in indicators:\n",
    "            if indicator == 'hist':\n",
    "                indic.append(getHistorical(date, longitude, city))\n",
    "            elif indicator == 'precipMM' or indicator == 'tempF':\n",
    "                indic.append(getWeather(date, city, longitude, indicator))\n",
    "            elif indicator == 'twitter sentiment':\n",
    "                indic.append(twitterSentiment(date, longitude, city))\n",
    "            elif indicator == 'twitter volume':\n",
    "                indic.append(twitterVolume(date, longitude, city))\n",
    "            elif indicator == 'Cotton' or indicator == 'Rice' or indicator == 'Wheat' or indicator == 'Maize' or indicator == 'Sugar' or indicator == 'Gold' or indicator == 'Natrual gas' or indicator == 'Iron ore' or indicator =='Copper':\n",
    "                indic.append(getCommodity(date, city, longitude, indicator))\n",
    "            elif indicator == 'hate':\n",
    "                indic.append(getHateSpeech(date, city, longitude))\n",
    "            else:\n",
    "                indic.append(getIndicators(date, city, longitude, indicator))\n",
    "        lengths = [len(feature) for feature in indic]\n",
    "        total_points = sum(lengths)\n",
    "        vector = np.zeros((total_points, 2), dtype=np.float32)\n",
    "        current = 0\n",
    "        for feature in indic:\n",
    "            vector[current:(current + len(feature)),0] = feature\n",
    "            current += len(feature)\n",
    "            vector[current - 1, 1] = 1  # stroke_end\n",
    "        # Preprocessing.\n",
    "        # 1. Size normalization.\n",
    "        lower = np.min(vector[:, 0:1], axis=0)\n",
    "        upper = np.max(vector[:, 0:1], axis=0)\n",
    "        scale = upper - lower\n",
    "        scale[scale == 0] = 1\n",
    "        vector[:, 0:1] = (vector[:, 0:1] - lower) / scale\n",
    "        # 2. Compute deltas.\n",
    "        vector[1:, 0:1] -= vector[0:-1, 0:1]\n",
    "        vector = vector[1:, :]\n",
    "        \n",
    "        current = (datetime.strptime(date, '%Y-%m-%d')+timedelta(days=lap)).strftime('%Y-%m-%d')\n",
    "        res[current] = vector\n",
    "    return res, len(vector)"
   ]
  },
  {
   "cell_type": "code",
   "execution_count": 256,
   "metadata": {},
   "outputs": [],
   "source": [
    "longitude = 60\n",
    "lap = 7"
   ]
  },
  {
   "cell_type": "code",
   "execution_count": 257,
   "metadata": {},
   "outputs": [],
   "source": [
    "indicators = ['Maize', 'Natrual gas', 'CPI Price, seas. adj.', 'Exchange rate', 'Stock Markets', 'Unemployment Rate', 'tempF', 'precipMM', 'twitter sentiment', 'twitter volume', 'hist']"
   ]
  },
  {
   "cell_type": "code",
   "execution_count": null,
   "metadata": {},
   "outputs": [],
   "source": [
    "x_indic, input_len = createIndicatorTrain(longitude, lap, city, indicators)"
   ]
  },
  {
   "cell_type": "code",
   "execution_count": 118,
   "metadata": {},
   "outputs": [],
   "source": [
    "def preprocess(img):\n",
    "    x = img[:30]\n",
    "    return x"
   ]
  },
  {
   "cell_type": "code",
   "execution_count": 71,
   "metadata": {},
   "outputs": [],
   "source": [
    "# Function to encode the data for a given date into (30, 300, longitude)\n",
    "def encode(img, date, longitude, lap):\n",
    "    res = np.zeros(shape=(30, 300, longitude))\n",
    "    days = [datetime.strptime(date, '%Y-%m-%d') - timedelta(days=x) for x in range(lap, longitude+lap)]\n",
    "    days1 = [x.strftime('%Y-%m-%d') for x in days]\n",
    "    days1.reverse()\n",
    "    for i in range(len(days1)-1):\n",
    "        print(days1[i])\n",
    "        image = img[str.encode(days1[i])]\n",
    "        image = preprocess(image) # crop the image\n",
    "        res[:,:,i] = image\n",
    "    return res"
   ]
  },
  {
   "cell_type": "code",
   "execution_count": 27,
   "metadata": {},
   "outputs": [],
   "source": [
    "images = ''\n",
    "# Load tweet matrix\n",
    "with open(images, 'rb') as f:\n",
    "    img = pickle.load(f, encoding='bytes')"
   ]
  },
  {
   "cell_type": "code",
   "execution_count": 260,
   "metadata": {},
   "outputs": [],
   "source": [
    "tweet_longitude = 60\n",
    "tweet_lap = 7"
   ]
  },
  {
   "cell_type": "code",
   "execution_count": null,
   "metadata": {},
   "outputs": [],
   "source": [
    "# Call the funtion to encode all the train images\n",
    "# This will take a while on CPU - Execute this only once\n",
    "start = time()\n",
    "x_tweet = {}\n",
    "for t in x_indic.keys():\n",
    "    encoded = encode(img, t, tweet_longitude, tweet_lap)\n",
    "    encoded = np.expand_dims(encoded, axis=3)\n",
    "    x_tweet[t] = np.moveaxis(encoded, 2, 0)\n",
    "print(x_tweet[t].shape)\n",
    "print(\"Time taken in seconds =\", time()-start)"
   ]
  },
  {
   "cell_type": "code",
   "execution_count": 291,
   "metadata": {},
   "outputs": [
    {
     "name": "stdout",
     "output_type": "stream",
     "text": [
      "(60, 30, 300, 1)\n",
      "(659, 2)\n",
      "[0. 0. 1.]\n"
     ]
    }
   ],
   "source": [
    "# check shape\n",
    "print(x_tweet['2016-01-01'].shape)\n",
    "print(x_indic['2016-01-01'].shape)\n",
    "print(truths['2015-06-20'])"
   ]
  },
  {
   "cell_type": "markdown",
   "metadata": {},
   "source": [
    "# build model"
   ]
  },
  {
   "cell_type": "code",
   "execution_count": 292,
   "metadata": {},
   "outputs": [],
   "source": [
    "# data generator, intended to be used in a call to model.fit_generator()\n",
    "def data_generator(hists, tweets, truths, num_samples_per_batch):\n",
    "    X1, X2, y = list(), list(), list()\n",
    "    n=0\n",
    "    # loop for ever over samples\n",
    "    while 1:\n",
    "        for key in hists.keys():\n",
    "            n+=1\n",
    "            # retrieve the photo feature\n",
    "            tweet = tweets[key]\n",
    "            hist = np.asarray(hists[key])\n",
    "            truth = truths[key]\n",
    "            \n",
    "            hist = np.expand_dims(hist, axis=1)\n",
    "            \n",
    "            X1.append(tweet)\n",
    "            X2.append(hist)\n",
    "            y.append(truth)\n",
    "            # yield the batch data\n",
    "            if n==num_samples_per_batch:\n",
    "                yield [[array(X1), array(X2)], array(y)]\n",
    "                X1, X2, y = list(), list(), list()\n",
    "                n=0"
   ]
  },
  {
   "cell_type": "code",
   "execution_count": 293,
   "metadata": {},
   "outputs": [],
   "source": [
    "tweet_model = Sequential()\n",
    "#use cnn to learn festures\n",
    "tweet_model.add(TimeDistributed(Conv2D(1, kernel_size=5, strides=1, activation='relu'), input_shape=(tweet_longitude,30, 300,1)))\n",
    "# tweet_model.add(TimeDistributed(MaxPooling2D(pool_size=(2, 2), strides=(2, 2))))\n",
    "tweet_model.add(TimeDistributed(Dropout(0.3)))\n",
    "tweet_model.add(TimeDistributed(Conv2D(1, kernel_size=5, strides=1, activation='relu')))\n",
    "tweet_model.add(TimeDistributed(Dropout(0.3)))\n",
    "tweet_model.add(TimeDistributed(Conv2D(1, kernel_size=3, strides=1, activation='relu')))\n",
    "tweet_model.add(TimeDistributed(Dropout(0.3)))\n",
    "# tweet_model.add(TimeDistributed(Conv2D(1, (5, 5), activation='relu')))\n",
    "# tweet_model.add(TimeDistributed(MaxPooling2D(pool_size=(2, 2))))\n",
    "tweet_model.add(TimeDistributed(Flatten()))\n",
    "tweet_model.add(TimeDistributed(Dense(128, activation='relu')))\n",
    "tweet_model.add(LSTM(128))\n",
    "\n",
    "\n",
    "#lstm\n",
    "hist_model = Sequential()\n",
    "hist_model.add(Conv1D(filters=48, kernel_size=5, strides=1, padding='same', input_shape=(input_len,2)))\n",
    "hist_model.add(Dropout(0.3))\n",
    "hist_model.add(Conv1D(filters=64, kernel_size=5, strides=1, padding='same'))\n",
    "hist_model.add(Dropout(0.3))\n",
    "# hist_model.add(Conv1D(filters=96, kernel_size=3, strides=1, padding='same'))\n",
    "# hist_model.add(Dropout(0.3))\n",
    "hist_model.add(LSTM(128))\n",
    "# hist_model.add(Flatten())\n",
    "hist_model.add(Dense(128, activation='relu'))\n",
    "\n",
    "#concatenate\n",
    "decoder1 = Add()([tweet_model.output, hist_model.output])\n",
    "decoder2 = Dense(128, activation='relu')(decoder1)\n",
    "outputs = Dense(num_classes, activation='softmax')(decoder2)\n",
    "model = Model(inputs=[tweet_model.input, hist_model.input], outputs=outputs)"
   ]
  },
  {
   "cell_type": "code",
   "execution_count": null,
   "metadata": {
    "scrolled": true
   },
   "outputs": [],
   "source": [
    "model.summary()"
   ]
  },
  {
   "cell_type": "markdown",
   "metadata": {},
   "source": [
    "# early stopping"
   ]
  },
  {
   "cell_type": "code",
   "execution_count": 269,
   "metadata": {},
   "outputs": [],
   "source": [
    "callbacks_list = [\n",
    "    callbacks.ModelCheckpoint(\n",
    "        filepath='/'+city+'/best_model_'+str(longitude)+'days'+str(lap)+'lap_'+str(tweet_longitude)+'days'+str(tweet_lap)+'lap.{epoch:02d}-{val_loss:.2f}.h5',\n",
    "        monitor='val_loss', save_best_only=True),\n",
    "    callbacks.EarlyStopping(monitor='acc', patience=5)\n",
    "]"
   ]
  },
  {
   "cell_type": "code",
   "execution_count": 270,
   "metadata": {},
   "outputs": [],
   "source": [
    "model.compile(loss='categorical_crossentropy',\n",
    "                optimizer='adam', metrics=['accuracy'])"
   ]
  },
  {
   "cell_type": "code",
   "execution_count": 271,
   "metadata": {},
   "outputs": [],
   "source": [
    "model.optimizer.learning_rate = 0.0001"
   ]
  },
  {
   "cell_type": "code",
   "execution_count": 272,
   "metadata": {},
   "outputs": [],
   "source": [
    "BATCH_SIZE = 8\n",
    "EPOCHS = 50"
   ]
  },
  {
   "cell_type": "code",
   "execution_count": 273,
   "metadata": {},
   "outputs": [],
   "source": [
    "# convert dict to list\n",
    "X1, X2, y = list(), list(), list()\n",
    "for key in x_indic.keys():\n",
    "    tweet = x_tweet[key]\n",
    "    hist = x_indic[key]\n",
    "    truth = truths[key]\n",
    "\n",
    "    X1.append(tweet)\n",
    "    X2.append(hist)\n",
    "    y.append(truth)\n",
    "x_train = [array(X1), array(X2)]\n",
    "y_train = array(y)"
   ]
  },
  {
   "cell_type": "code",
   "execution_count": 274,
   "metadata": {},
   "outputs": [
    {
     "name": "stdout",
     "output_type": "stream",
     "text": [
      "(1311, 60, 30, 300, 1)\n",
      "(1311, 659, 2)\n"
     ]
    }
   ],
   "source": [
    "print(x_train[0].shape)\n",
    "print(x_train[1].shape)"
   ]
  },
  {
   "cell_type": "code",
   "execution_count": null,
   "metadata": {
    "scrolled": true
   },
   "outputs": [],
   "source": [
    "history = model.fit(x_train,\n",
    "                      y_train,\n",
    "                      batch_size=BATCH_SIZE,\n",
    "                      epochs=EPOCHS,\n",
    "                      callbacks=callbacks_list,\n",
    "                      validation_split=0.2,\n",
    "                      verbose=1)"
   ]
  },
  {
   "cell_type": "markdown",
   "metadata": {},
   "source": [
    "# prediction"
   ]
  },
  {
   "cell_type": "code",
   "execution_count": 277,
   "metadata": {},
   "outputs": [],
   "source": [
    "# create hist dataset - training\n",
    "def createIndicatorTest(longitude, lap, city, indicators):\n",
    "    start_date = '2019-01-01'\n",
    "    end_date = '2019-02-23'\n",
    "\n",
    "    days_min = datetime.strptime(start_date, '%Y-%m-%d')\n",
    "    days_max = datetime.strptime(end_date, '%Y-%m-%d')\n",
    "    days = [days_min + timedelta(days=x) for x in range((days_max-days_min).days + 2)]\n",
    "    days1 = [x.strftime('%Y-%m-%d') for x in days]\n",
    "\n",
    "    res = {}\n",
    "    for i in range(len(days1)-1):\n",
    "        indic = []\n",
    "        date = days1[i]\n",
    "        print(date)\n",
    "        for indicator in indicators:\n",
    "            if indicator == 'hist':\n",
    "                indic.append(getHistorical(date, longitude, city))\n",
    "            elif indicator == 'precipMM' or indicator == 'tempF':\n",
    "                indic.append(getWeather(date, city, longitude, indicator))\n",
    "            elif indicator == 'twitter sentiment':\n",
    "                indic.append(twitterSentiment(date, longitude, city))\n",
    "            elif indicator == 'twitter volume':\n",
    "                indic.append(twitterVolume(date, longitude, city))\n",
    "            elif indicator == 'Cotton' or indicator == 'Rice' or indicator == 'Wheat' or indicator == 'Maize' or indicator == 'Sugar' or indicator == 'Gold' or indicator == 'Natrual gas' or indicator == 'Iron ore' or indicator =='Copper':\n",
    "                indic.append(getCommodity(date, city, longitude, indicator))\n",
    "            elif indicator == 'hate':\n",
    "                indic.append(getHateSpeech(date, city, longitude))\n",
    "            else:\n",
    "                indic.append(getIndicators(date, city, longitude, indicator))\n",
    "        lengths = [len(feature) for feature in indic]\n",
    "        total_points = sum(lengths)\n",
    "        vector = np.zeros((total_points, 2), dtype=np.float32)\n",
    "        current = 0\n",
    "        for feature in indic:\n",
    "            vector[current:(current + len(feature)),0] = feature\n",
    "            current += len(feature)\n",
    "            vector[current - 1, 1] = 1  # stroke_end\n",
    "        # Preprocessing.\n",
    "        # 1. Size normalization.\n",
    "        lower = np.min(vector[:, 0:1], axis=0)\n",
    "        upper = np.max(vector[:, 0:1], axis=0)\n",
    "        scale = upper - lower\n",
    "        scale[scale == 0] = 1\n",
    "        vector[:, 0:1] = (vector[:, 0:1] - lower) / scale\n",
    "        # 2. Compute deltas.\n",
    "        vector[1:, 0:1] -= vector[0:-1, 0:1]\n",
    "        vector = vector[1:, :]\n",
    "        \n",
    "        current = (datetime.strptime(date, '%Y-%m-%d')+timedelta(days=lap)).strftime('%Y-%m-%d')\n",
    "        res[current] = vector\n",
    "    return res"
   ]
  },
  {
   "cell_type": "code",
   "execution_count": null,
   "metadata": {
    "scrolled": true
   },
   "outputs": [],
   "source": [
    "y_indic = createIndicatorTest(longitude, lap, city, indicators)"
   ]
  },
  {
   "cell_type": "code",
   "execution_count": null,
   "metadata": {},
   "outputs": [],
   "source": [
    "# Call the funtion to encode all the train images\n",
    "# This will take a while on CPU - Execute this only once\n",
    "start = time()\n",
    "y_tweet = {}\n",
    "for t in y_indic.keys():\n",
    "    encoded = encode(img, t, tweet_longitude, tweet_lap)\n",
    "    encoded = np.expand_dims(encoded, axis=3)\n",
    "    y_tweet[t] = np.moveaxis(encoded, 2, 0)\n",
    "print(y_tweet[t].shape)\n",
    "print(\"Time taken in seconds =\", time()-start)"
   ]
  },
  {
   "cell_type": "code",
   "execution_count": 280,
   "metadata": {},
   "outputs": [],
   "source": [
    "# convert dict to list\n",
    "X1, X2, y = list(), list(), list()\n",
    "for key in y_indic.keys():\n",
    "    tweet = y_tweet[key]\n",
    "    hist = y_indic[key]\n",
    "    truth = truths[key]\n",
    "    \n",
    "    X1.append(tweet)\n",
    "    X2.append(hist)\n",
    "    y.append(truth)\n",
    "x_test = [array(X1), array(X2)]\n",
    "y_test = array(y)"
   ]
  },
  {
   "cell_type": "code",
   "execution_count": 281,
   "metadata": {},
   "outputs": [
    {
     "name": "stdout",
     "output_type": "stream",
     "text": [
      "(54, 60, 30, 300, 1)\n",
      "(54, 659, 2)\n",
      "[1. 0. 0.]\n"
     ]
    }
   ],
   "source": [
    "# check shape\n",
    "print(x_test[0].shape)\n",
    "print(x_test[1].shape)\n",
    "print(truths['2019-01-01'])"
   ]
  },
  {
   "cell_type": "code",
   "execution_count": 283,
   "metadata": {},
   "outputs": [],
   "source": [
    "predicted = model.predict(x_test)"
   ]
  },
  {
   "cell_type": "code",
   "execution_count": 284,
   "metadata": {},
   "outputs": [],
   "source": [
    "y_score = predicted"
   ]
  },
  {
   "cell_type": "code",
   "execution_count": 285,
   "metadata": {},
   "outputs": [],
   "source": [
    "# save output\n",
    "with open('/'+city+'/output/'+str(longitude)+'days'+str(lap)+'lap_'+str(tweet_longitude)+'days'+str(tweet_lap)+'lap.pickle', 'wb') as output_file:\n",
    "    pickle.dump([y_test, y_score], output_file)"
   ]
  },
  {
   "cell_type": "markdown",
   "metadata": {},
   "source": [
    "# plot graphs"
   ]
  },
  {
   "cell_type": "code",
   "execution_count": null,
   "metadata": {},
   "outputs": [],
   "source": [
    "# Compute ROC curve and ROC area for each class\n",
    "from sklearn.metrics import roc_curve, auc\n",
    "from scipy import interp"
   ]
  },
  {
   "cell_type": "code",
   "execution_count": 367,
   "metadata": {},
   "outputs": [],
   "source": [
    "longitude = 30\n",
    "lap = 7\n",
    "tweet_longitude = 30\n",
    "tweet_lap = 7"
   ]
  },
  {
   "cell_type": "code",
   "execution_count": 368,
   "metadata": {},
   "outputs": [],
   "source": [
    "with open('/'+city+'/output/'+str(longitude)+'days'+str(lap)+'lap_'+str(tweet_longitude)+'days'+str(tweet_lap)+'lap.pickle', 'rb') as output_file:\n",
    "    [y_test2, y_score2] = pickle.load(output_file)"
   ]
  },
  {
   "cell_type": "code",
   "execution_count": null,
   "metadata": {},
   "outputs": [],
   "source": [
    "# Compute ROC curve and ROC area for each class\n",
    "fpr = dict()\n",
    "tpr = dict()\n",
    "roc_auc = dict()\n",
    "for i in range(3):\n",
    "    fpr[i], tpr[i], _ = roc_curve(y_test[:, i], y_score[:, i])\n",
    "    roc_auc[i] = auc(fpr[i], tpr[i])\n",
    "\n",
    "# Compute micro-average ROC curve and ROC area\n",
    "fpr[\"micro\"], tpr[\"micro\"], _ = roc_curve(y_test.ravel(), y_score.ravel())\n",
    "roc_auc[\"micro\"] = auc(fpr[\"micro\"], tpr[\"micro\"])\n",
    "\n",
    "n_classes = 3\n",
    "all_fpr = np.unique(np.concatenate([fpr[i] for i in range(n_classes)]))\n",
    "\n",
    "# Then interpolate all ROC curves at this points\n",
    "mean_tpr = np.zeros_like(all_fpr)\n",
    "for i in range(n_classes):\n",
    "    mean_tpr += interp(all_fpr, fpr[i], tpr[i])\n",
    "\n",
    "# Finally average it and compute AUC\n",
    "mean_tpr /= n_classes\n",
    "\n",
    "fpr[\"macro\"] = all_fpr\n",
    "tpr[\"macro\"] = mean_tpr\n",
    "roc_auc[\"macro\"] = auc(fpr[\"macro\"], tpr[\"macro\"])"
   ]
  },
  {
   "cell_type": "code",
   "execution_count": null,
   "metadata": {},
   "outputs": [],
   "source": [
    "# Compute ROC curve and ROC area for each class\n",
    "fpr1 = dict()\n",
    "tpr1 = dict()\n",
    "roc_auc1 = dict()\n",
    "for i in range(3):\n",
    "    fpr1[i], tpr1[i], _ = roc_curve(y_test1[:, i], y_score1[:, i])\n",
    "    roc_auc1[i] = auc(fpr1[i], tpr1[i])\n",
    "\n",
    "# Compute micro-average ROC curve and ROC area\n",
    "fpr1[\"micro\"], tpr1[\"micro\"], _ = roc_curve(y_test1.ravel(), y_score1.ravel())\n",
    "roc_auc1[\"micro\"] = auc(fpr1[\"micro\"], tpr1[\"micro\"])\n",
    "\n",
    "all_fpr1 = np.unique(np.concatenate([fpr1[i] for i in range(n_classes)]))\n",
    "\n",
    "# Then interpolate all ROC curves at this points\n",
    "mean_tpr1 = np.zeros_like(all_fpr1)\n",
    "for i in range(n_classes):\n",
    "    mean_tpr1 += interp(all_fpr1, fpr1[i], tpr1[i])\n",
    "\n",
    "# Finally average it and compute AUC\n",
    "mean_tpr1 /= n_classes\n",
    "\n",
    "fpr1[\"macro\"] = all_fpr1\n",
    "tpr1[\"macro\"] = mean_tpr1\n",
    "roc_auc1[\"macro\"] = auc(fpr1[\"macro\"], tpr1[\"macro\"])"
   ]
  },
  {
   "cell_type": "code",
   "execution_count": null,
   "metadata": {},
   "outputs": [],
   "source": [
    "# Compute ROC curve and ROC area for each class\n",
    "fpr2 = dict()\n",
    "tpr2 = dict()\n",
    "roc_auc2 = dict()\n",
    "for i in range(3):\n",
    "    fpr2[i], tpr2[i], _ = roc_curve(y_test2[:, i], y_score2[:, i])\n",
    "    roc_auc2[i] = auc(fpr2[i], tpr2[i])\n",
    "\n",
    "# Compute micro-average ROC curve and ROC area\n",
    "fpr2[\"micro\"], tpr2[\"micro\"], _ = roc_curve(y_test2.ravel(), y_score2.ravel())\n",
    "roc_auc2[\"micro\"] = auc(fpr2[\"micro\"], tpr2[\"micro\"])\n",
    "\n",
    "all_fpr2 = np.unique(np.concatenate([fpr2[i] for i in range(n_classes)]))\n",
    "\n",
    "# Then interpolate all ROC curves at this points\n",
    "mean_tpr2 = np.zeros_like(all_fpr2)\n",
    "for i in range(n_classes):\n",
    "    mean_tpr2 += interp(all_fpr2, fpr2[i], tpr2[i])\n",
    "\n",
    "# Finally average it and compute AUC\n",
    "mean_tpr2 /= n_classes\n",
    "\n",
    "fpr2[\"macro\"] = all_fpr2\n",
    "tpr2[\"macro\"] = mean_tpr2\n",
    "roc_auc2[\"macro\"] = auc(fpr2[\"macro\"], tpr2[\"macro\"])"
   ]
  },
  {
   "cell_type": "code",
   "execution_count": null,
   "metadata": {},
   "outputs": [],
   "source": [
    "# Compute ROC curve and ROC area for each class\n",
    "fpr3 = dict()\n",
    "tpr3 = dict()\n",
    "roc_auc3 = dict()\n",
    "for i in range(3):\n",
    "    fpr3[i], tpr3[i], _ = roc_curve(y_test3[:, i], y_score3[:, i])\n",
    "    roc_auc3[i] = auc(fpr3[i], tpr3[i])\n",
    "\n",
    "# Compute micro-average ROC curve and ROC area\n",
    "fpr3[\"micro\"], tpr3[\"micro\"], _ = roc_curve(y_test3.ravel(), y_score3.ravel())\n",
    "roc_auc3[\"micro\"] = auc(fpr3[\"micro\"], tpr3[\"micro\"])\n",
    "\n",
    "all_fpr3 = np.unique(np.concatenate([fpr3[i] for i in range(n_classes)]))\n",
    "\n",
    "# Then interpolate all ROC curves at this points\n",
    "mean_tpr3 = np.zeros_like(all_fpr3)\n",
    "for i in range(n_classes):\n",
    "    mean_tpr3 += interp(all_fpr3, fpr3[i], tpr3[i])\n",
    "\n",
    "# Finally average it and compute AUC\n",
    "mean_tpr3 /= n_classes\n",
    "\n",
    "fpr3[\"macro\"] = all_fpr3\n",
    "tpr3[\"macro\"] = mean_tpr3\n",
    "roc_auc3[\"macro\"] = auc(fpr3[\"macro\"], tpr3[\"macro\"])"
   ]
  },
  {
   "cell_type": "code",
   "execution_count": null,
   "metadata": {},
   "outputs": [],
   "source": [
    "# Compute ROC curve and ROC area for each class\n",
    "fpr4 = dict()\n",
    "tpr4 = dict()\n",
    "roc_auc4 = dict()\n",
    "for i in range(3):\n",
    "    fpr4[i], tpr4[i], _ = roc_curve(y_test4[:, i], y_score4[:, i])\n",
    "    roc_auc4[i] = auc(fpr4[i], tpr4[i])\n",
    "\n",
    "# Compute micro-average ROC curve and ROC area\n",
    "fpr4[\"micro\"], tpr4[\"micro\"], _ = roc_curve(y_test4.ravel(), y_score4.ravel())\n",
    "roc_auc4[\"micro\"] = auc(fpr4[\"micro\"], tpr4[\"micro\"])\n",
    "\n",
    "all_fpr4 = np.unique(np.concatenate([fpr4[i] for i in range(n_classes)]))\n",
    "\n",
    "# Then interpolate all ROC curves at this points\n",
    "mean_tpr4 = np.zeros_like(all_fpr4)\n",
    "for i in range(n_classes):\n",
    "    mean_tpr4 += interp(all_fpr4, fpr4[i], tpr4[i])\n",
    "\n",
    "# Finally average it and compute AUC\n",
    "mean_tpr4 /= n_classes\n",
    "\n",
    "fpr4[\"macro\"] = all_fpr4\n",
    "tpr4[\"macro\"] = mean_tpr4\n",
    "roc_auc4[\"macro\"] = auc(fpr4[\"macro\"], tpr4[\"macro\"])"
   ]
  },
  {
   "cell_type": "code",
   "execution_count": null,
   "metadata": {},
   "outputs": [],
   "source": [
    "# Compute ROC curve and ROC area for each class\n",
    "fpr5 = dict()\n",
    "tpr5 = dict()\n",
    "roc_auc5 = dict()\n",
    "for i in range(3):\n",
    "    fpr5[i], tpr5[i], _ = roc_curve(y_test5[:, i], y_score5[:, i])\n",
    "    roc_auc5[i] = auc(fpr5[i], tpr5[i])\n",
    "\n",
    "# Compute micro-average ROC curve and ROC area\n",
    "fpr5[\"micro\"], tpr5[\"micro\"], _ = roc_curve(y_test5.ravel(), y_score5.ravel())\n",
    "roc_auc5[\"micro\"] = auc(fpr5[\"micro\"], tpr5[\"micro\"])\n",
    "\n",
    "all_fpr5 = np.unique(np.concatenate([fpr5[i] for i in range(n_classes)]))\n",
    "\n",
    "# Then interpolate all ROC curves at this points\n",
    "mean_tpr5 = np.zeros_like(all_fpr5)\n",
    "for i in range(n_classes):\n",
    "    mean_tpr5 += interp(all_fpr5, fpr5[i], tpr5[i])\n",
    "\n",
    "# Finally average it and compute AUC\n",
    "mean_tpr5 /= n_classes\n",
    "\n",
    "fpr5[\"macro\"] = all_fpr5\n",
    "tpr5[\"macro\"] = mean_tpr5\n",
    "roc_auc5[\"macro\"] = auc(fpr5[\"macro\"], tpr5[\"macro\"])"
   ]
  },
  {
   "cell_type": "code",
   "execution_count": 360,
   "metadata": {},
   "outputs": [],
   "source": [
    "from pandas import read_csv\n",
    "from matplotlib import pyplot\n",
    "from statsmodels.tsa.arima_model import ARIMA\n",
    "from sklearn.metrics import mean_squared_error\n",
    "from sklearn.preprocessing import label_binarize"
   ]
  },
  {
   "cell_type": "code",
   "execution_count": null,
   "metadata": {},
   "outputs": [],
   "source": [
    "def parser(x):\n",
    "\treturn datetime.strptime(x, '%Y-%m-%d')\n",
    " \n",
    "series = read_csv('', header=0, parse_dates=[0], index_col=0, squeeze=True, date_parser=parser)\n",
    "X = series.values.astype('float32')\n",
    "size = int(len(X) * 0.95)\n",
    "train, test = X[0:size], X[size:len(X)]\n",
    "history = [x for x in train]\n",
    "predictions = list()\n",
    "for t in range(len(test)):\n",
    "\tmodel = ARIMA(history, order=(5,1,0))\n",
    "\tmodel_fit = model.fit(disp=0)\n",
    "\toutput = model_fit.forecast()\n",
    "\tyhat = output[0]\n",
    "\tpredictions.append(yhat)\n",
    "\tobs = test[t]\n",
    "\thistory.append(obs)\n",
    "\n",
    "y_score6 = []\n",
    "y_test6 = []\n",
    "for i in range(len(predictions)):\n",
    "\tpredicted = predictions[i]\n",
    "\tif predicted > 0:\n",
    "\t\tpredicted = 1\n",
    "\telse:\n",
    "\t\tpredicted = 0\n",
    "\tactual = np.rint(test[i])\n",
    "\tif test[i]>1:\n",
    "\t\tactual = 2\n",
    "\ty_score6.append(predicted)\n",
    "\ty_test6.append(actual)\n",
    "\n",
    "y_score6 = label_binarize(y_score6, classes=[0, 1, 2])\n",
    "y_test6 = label_binarize(y_test6, classes=[0, 1, 2])\n",
    "\n",
    "\n",
    "# Compute ROC curve and ROC area for each class\n",
    "fpr6 = dict()\n",
    "tpr6 = dict()\n",
    "roc_auc6 = dict()\n",
    "for i in range(3):\n",
    "    fpr6[i], tpr6[i], _ = roc_curve(y_test6[:, i], y_score6[:, i])\n",
    "    roc_auc6[i] = auc(fpr6[i], tpr6[i])\n",
    "\n",
    "# Compute micro-average ROC curve and ROC area\n",
    "fpr6[\"micro\"], tpr6[\"micro\"], _ = roc_curve(y_test6.ravel(), y_score6.ravel())\n",
    "roc_auc6[\"micro\"] = auc(fpr6[\"micro\"], tpr6[\"micro\"])\n",
    "\n",
    "n_classes = 2\n",
    "all_fpr6 = np.unique(np.concatenate([fpr6[i] for i in range(n_classes)]))\n",
    "\n",
    "# Then interpolate all ROC curves at this points\n",
    "mean_tpr6 = np.zeros_like(all_fpr6)\n",
    "for i in range(n_classes):\n",
    "    mean_tpr6 += interp(all_fpr6, fpr6[i], tpr6[i])\n",
    "\n",
    "# Finally average it and compute AUC\n",
    "mean_tpr6 /= n_classes\n",
    "\n",
    "fpr6[\"macro\"] = all_fpr6\n",
    "tpr6[\"macro\"] = mean_tpr6\n",
    "roc_auc6[\"macro\"] = auc(fpr6[\"macro\"], tpr6[\"macro\"])"
   ]
  },
  {
   "cell_type": "code",
   "execution_count": 375,
   "metadata": {},
   "outputs": [
    {
     "data": {
      "image/png": "[encoded data removed]",
      "text/plain": [
       "<matplotlib.figure.Figure at 0x1410b5f28>"
      ]
     },
     "metadata": {},
     "output_type": "display_data"
    }
   ],
   "source": [
    "plt.figure()\n",
    "lw = 2\n",
    "plt.plot(fpr['macro'], tpr['macro'], color='blue',\n",
    "         lw=lw, label='30 days 0 LT (area = %0.2f)' % roc_auc['macro'], linestyle=':')\n",
    "plt.plot(fpr1['macro'], tpr1['macro'], color='blue',\n",
    "         lw=lw, label='30 days 3 LT (area = %0.2f)' % roc_auc1['macro'], linestyle='--')\n",
    "plt.plot(fpr2['macro'], tpr2['macro'], color='blue',\n",
    "         lw=lw, label='30 days 7 LT (area = %0.2f)' % roc_auc2['macro'], linestyle='-.')\n",
    "plt.plot(fpr3['macro'], tpr3['macro'], color='red',\n",
    "         lw=lw, label='60 days 0 LT (area = %0.2f)' % roc_auc3['macro'], linestyle=':')\n",
    "plt.plot(fpr4['macro'], tpr4['macro'], color='red',\n",
    "         lw=lw, label='60 days 3 LT (area = %0.2f)' % roc_auc4['macro'], linestyle='--')\n",
    "plt.plot(fpr5['macro'], tpr5['macro'], color='red',\n",
    "         lw=lw, label='60 days 7 LT (area = %0.2f)' % roc_auc5['macro'], linestyle='-.')\n",
    "plt.plot(fpr6['macro'], tpr6['macro'], color='green',\n",
    "         lw=lw, label='ARIMA (area = %0.2f)' % roc_auc6['macro'])\n",
    "# plt.plot([0, 1], [0, 1], color='green', lw=lw)\n",
    "plt.xlim([0.0, 1.0])\n",
    "plt.ylim([0.0, 1.05])\n",
    "plt.xlabel('False Positive Rate')\n",
    "plt.ylabel('True Positive Rate')\n",
    "plt.title('macro-average AUC-ROC curve for Cairo, Egypt')\n",
    "plt.legend(loc=\"lower right\")\n",
    "plt.savefig('./cairo.pdf')"
   ]
  },
  {
   "cell_type": "code",
   "execution_count": null,
   "metadata": {},
   "outputs": [],
   "source": []
  }
 ],
 "metadata": {
  "kernelspec": {
   "display_name": "Python 3",
   "language": "python",
   "name": "python3"
  },
  "language_info": {
   "codemirror_mode": {
    "name": "ipython",
    "version": 3
   },
   "file_extension": ".py",
   "mimetype": "text/x-python",
   "name": "python",
   "nbconvert_exporter": "python",
   "pygments_lexer": "ipython3",
   "version": "3.6.1"
  }
 },
 "nbformat": 4,
 "nbformat_minor": 2
}
